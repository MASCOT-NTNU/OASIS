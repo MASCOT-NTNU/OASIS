{
 "cells": [
  {
   "cell_type": "code",
   "execution_count": 2,
   "id": "e9af43c1",
   "metadata": {},
   "outputs": [],
   "source": [
    "import numpy as np\n",
    "import matplotlib.pyplot as plt\n",
    "import pandas as pd\n",
    "import os\n",
    "from src.WGS import WGS\n",
    "datapath = \"/Users/yaolin/Library/CloudStorage/OneDrive-NTNU/MASCOT_PhD/Data/Porto/Prior/Dec_Prior/Extracted/\"\n",
    "\n",
    "\n",
    "p = pd.read_csv(\"OperationArea.csv\").to_numpy()\n",
    "lat = p[:, 0]\n",
    "lon = p[:, 1]\n",
    "\n",
    "x, y = WGS.latlon2xy(lat, lon)\n",
    "\n",
    "os.listdir(datapath)\n",
    "# import h5py\n",
    "priorpath = \"testdata/\"\n",
    "os.listdir(priorpath)\n",
    "\n",
    "df = np.loadtxt(priorpath + \"Delft3D_West_Heavy.txt\", delimiter=\", \")\n",
    "\n"
   ]
  },
  {
   "cell_type": "code",
   "execution_count": null,
   "id": "fbb99494",
   "metadata": {},
   "outputs": [],
   "source": [
    "plt.figure(figsize=(10, 10))\n",
    "plt.plot(p[:, 1], p[:, 0], 'r-.')\n",
    "\n",
    "plt.figure(figsize=(10, 10))\n",
    "plt.plot(y, x, 'k-.')\n",
    "\n",
    "depth = df[:, 2]\n",
    "ind = np.where((depth <= -.5) * (depth >= -1.0))[0]\n",
    "plt.scatter(df[ind, 1], df[ind, 0], c=df[ind, -1], cmap=\"BrBG\", vmin=10, vmax=36)\n",
    "plt.colorbar()"
   ]
  },
  {
   "cell_type": "code",
   "execution_count": 1,
   "id": "ecdaf391",
   "metadata": {},
   "outputs": [
    {
     "ename": "ModuleNotFoundError",
     "evalue": "No module named 'mat73'",
     "output_type": "error",
     "traceback": [
      "\u001b[0;31m---------------------------------------------------------------------------\u001b[0m",
      "\u001b[0;31mModuleNotFoundError\u001b[0m                       Traceback (most recent call last)",
      "Input \u001b[0;32mIn [1]\u001b[0m, in \u001b[0;36m<cell line: 1>\u001b[0;34m()\u001b[0m\n\u001b[0;32m----> 1\u001b[0m \u001b[38;5;28;01mimport\u001b[39;00m \u001b[38;5;21;01mmat73\u001b[39;00m\n\u001b[1;32m      2\u001b[0m \u001b[38;5;28;01mimport\u001b[39;00m \u001b[38;5;21;01mtime\u001b[39;00m\n\u001b[1;32m      3\u001b[0m t1 \u001b[38;5;241m=\u001b[39m time\u001b[38;5;241m.\u001b[39mtime()\n",
      "\u001b[0;31mModuleNotFoundError\u001b[0m: No module named 'mat73'"
     ]
    }
   ],
   "source": [
    "import mat73\n",
    "import time\n",
    "t1 = time.time()\n",
    "\n",
    "data_path = \"/Users/yaolin/Library/CloudStorage/OneDrive-NTNU/MASCOT_PhD/Data/Porto/Delft3D/Nov2016_sal_1.mat\"\n",
    "data = mat73.loadmat(data_path)\n",
    "t2 = time.time()\n",
    "print(\"Time consumed: \", t2 - t1)\n"
   ]
  },
  {
   "cell_type": "code",
   "execution_count": null,
   "id": "7b460709",
   "metadata": {},
   "outputs": [],
   "source": [
    "data = data[\"data\"]\n",
    "lon = data[\"X\"]\n",
    "lat = data[\"Y\"]\n",
    "depth = data[\"Z\"]\n",
    "Time = data['Time']\n",
    "timestamp_data = (Time - 719529) * 24 * 3600  # 719529 is how many days have passed from Jan1 0,\n",
    "# to Jan1 1970. Since 1970Jan1, is used as the starting index for datetime\n",
    "sal_data = data[\"Val\"]\n",
    "string_date = datetime.fromtimestamp(timestamp_data[0]).strftime(\"%Y_%m\")\n",
    "t2 = time.time()"
   ]
  }
 ],
 "metadata": {
  "kernelspec": {
   "display_name": "OASIS",
   "language": "python",
   "name": "oasis"
  },
  "language_info": {
   "codemirror_mode": {
    "name": "ipython",
    "version": 3
   },
   "file_extension": ".py",
   "mimetype": "text/x-python",
   "name": "python",
   "nbconvert_exporter": "python",
   "pygments_lexer": "ipython3",
   "version": "3.9.13"
  }
 },
 "nbformat": 4,
 "nbformat_minor": 5
}
