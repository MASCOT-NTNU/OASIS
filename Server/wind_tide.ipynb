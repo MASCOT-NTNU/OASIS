{
 "cells": [
  {
   "cell_type": "code",
   "execution_count": 3,
   "metadata": {},
   "outputs": [
    {
     "name": "stdout",
     "output_type": "stream",
     "text": [
      "hello\n"
     ]
    }
   ],
   "source": [
    "from datetime import datetime\n",
    "import h5py\n",
    "import numpy as np\n",
    "import matplotlib.pyplot as plt\n",
    "import numba\n",
    "from numba import cuda\n",
    "import pandas as pd\n",
    "import plotly\n",
    "import plotly.graph_objects as go\n",
    "import time\n",
    "from matplotlib.cm import get_cmap\n",
    "from scipy.spatial.distance import cdist\n",
    "import os\n",
    "import concurrent.futures\n",
    "from matplotlib.cm import get_cmap\n",
    "from tqdm import tqdm\n",
    "from joblib import Parallel, delayed\n",
    "\n",
    "plt.rcParams[\"font.family\"] = \"Times New Roman\"\n",
    "plt.rcParams.update({'font.size': 12})\n",
    "plt.rcParams.update({'font.style': 'oblique'})\n",
    "print(\"hello\")\n",
    "\n",
    "\n",
    "# lat_river_mouth, lon_river_mouth = 41.139024, -8.680089\n",
    "# figpath = \"fig/\""
   ]
  },
  {
   "cell_type": "code",
   "execution_count": 4,
   "metadata": {},
   "outputs": [
    {
     "name": "stdout",
     "output_type": "stream",
     "text": [
      "['salinity_mar_2016_1-009.mat', 'salinity_mar_2016_2-008.mat', 'salinity_mar_2016_3-011.mat', 'salinity_mar_2017_1-002.mat', 'salinity_mar_2017_2-010.mat', 'salinity_mar_2017_3-007.mat', 'salinity_mar_2018_1-004.mat', 'salinity_mar_2018_2-012.mat', 'salinity_mar_2018_3-006.mat', 'salinity_mar_2019_1-001.mat', 'salinity_mar_2019_2-005.mat', 'salinity_mar_2019_3-003.mat']\n"
     ]
    }
   ],
   "source": [
    "\n",
    "filepath = \"raw/March/\"\n",
    "files = os.listdir(filepath)\n",
    "files.sort()\n",
    "\n",
    "print(files)"
   ]
  },
  {
   "cell_type": "code",
   "execution_count": 5,
   "metadata": {},
   "outputs": [],
   "source": [
    "# s1: load wind and tide\n",
    "path_wind = \"wind/raw/wind_data.txt\"\n",
    "path_tide = \"tide/raw/Month_11.csv\"\n",
    "wind = np.loadtxt(path_wind, delimiter=\",\")\n",
    "tide = pd.read_csv(path_tide).to_numpy()\n",
    "# tide = np.loadtxt(path_tide, delimiter=\", \")\n",
    "\n",
    "def angle2anle(angle):\n",
    "    return 270 - angle\n",
    "\n",
    "def s2uv(s, angle):\n",
    "    angle = angle2anle(angle)\n",
    "    u = s * np.cos(deg2rad(angle))\n",
    "    v = s * np.sin(deg2rad(angle))\n",
    "    return u, v\n",
    "\n",
    "def rad2deg(rad):\n",
    "    return rad / np.pi * 180\n",
    "\n",
    "def deg2rad(deg):\n",
    "    return deg / 180 * np.pi\n",
    "\n",
    "def vectorize(v):\n",
    "    return np.array(v).reshape(-1, 1)\n"
   ]
  },
  {
   "cell_type": "code",
   "execution_count": 6,
   "metadata": {},
   "outputs": [
    {
     "name": "stdout",
     "output_type": "stream",
     "text": [
      "salinity_mar_2016_1-009.mat\n",
      "salinity_mar_2016_2-008.mat\n",
      "salinity_mar_2016_3-011.mat\n",
      "salinity_mar_2017_1-002.mat\n",
      "salinity_mar_2017_2-010.mat\n",
      "salinity_mar_2017_3-007.mat\n",
      "salinity_mar_2018_1-004.mat\n",
      "salinity_mar_2018_2-012.mat\n",
      "salinity_mar_2018_3-006.mat\n",
      "salinity_mar_2019_1-001.mat\n",
      "salinity_mar_2019_2-005.mat\n",
      "salinity_mar_2019_3-003.mat\n"
     ]
    }
   ],
   "source": [
    "def get_indices(timestamp):\n",
    "    # s1: get wind index\n",
    "    dist_wind = np.abs(timestamp - wind[:, 0])\n",
    "    ind_wind = np.where(dist_wind == np.nanmin(dist_wind))[0][0]\n",
    "    \n",
    "    # s2: get tide index\n",
    "    dist_tide = np.abs(timestamp - tide[:, 0])\n",
    "    ind_tide = np.where(dist_tide == np.nanmin(dist_tide))[0][0]\n",
    "\n",
    "    # s3: evaluate\n",
    "    tide_string = \"None\"\n",
    "    wind_dir = \"None\"\n",
    "    wind_level = \"None\"\n",
    "    if tide[ind_tide, 2] == 1:\n",
    "        if timestamp >= tide[ind_tide, 0]:\n",
    "            tide_string = \"Ebb\"\n",
    "        else:\n",
    "            tide_string = \"Flood\"\n",
    "    else:\n",
    "        if timestamp >= tide[ind_tide, 0]:\n",
    "            tide_string = \"Flood\"\n",
    "        else:\n",
    "            tide_string = \"Ebb\"\n",
    "    angles = np.arange(4) * 90 + 45\n",
    "    directions = ['East', 'South', 'West', 'North']\n",
    "    ind = len(angles[angles < wind[ind_wind, 2]]) - 1\n",
    "    wind_dir = directions[ind]\n",
    "    \n",
    "    speeds = np.array([0, 2.5, 6])\n",
    "    levels = ['Mild', 'Moderate', 'Heavy']\n",
    "    ind = len(speeds[speeds < wind[ind_wind, 1]]) - 1\n",
    "    wind_level = levels[ind]\n",
    "    \n",
    "#     print(\"wind: \", wind_dir)\n",
    "#     print(\"wind: \", wind_level)\n",
    "#     print(\"tide: \", tide_string)\n",
    "    return timestamp, wind_dir, wind_level, tide_string\n",
    "\n",
    "\n",
    "for file in files:\n",
    "    print(file)\n",
    "\n",
    "    date_string = file[-14:-8]  #TODO:  Just for March, change for specific month \n",
    "    data = h5py.File(filepath + file, 'r')\n",
    "    t1 = time.time()\n",
    "    df = data.get('data')\n",
    "    Time = np.array(df.get('Time'))\n",
    "    timestamp = (Time - 719529) * 24 * 3600  # 719529 is how many days have passed from Jan1 0,\n",
    "    t2 = time.time()\n",
    "    \n",
    "    timestamp_data = timestamp[0]\n",
    "#     timestamp = timestamp[0]\n",
    "#     get_indices(timestamp[0])\n",
    "    \n",
    "#     try:\n",
    "    wd = []\n",
    "    wl = []\n",
    "    ts = []\n",
    "    tp = []\n",
    "    for t in timestamp_data:\n",
    "        t1, w1, w2, t2 = get_indices(t)\n",
    "        tp.append(t1)\n",
    "        wd.append(w1)\n",
    "        wl.append(w2)\n",
    "        ts.append(t2)\n",
    "#     res = Parallel(n_jobs=2)(delayed(get_indices)(t) for t in timestamp_data)\n",
    "#     tp = [item[0] for item in res]\n",
    "#     wind_dir = [item[1] for item in res]\n",
    "#     wind_level = [item[2] for item in res]\n",
    "#     tide_string = [item[3] for item in res]\n",
    "\n",
    "#     dataf = {\"timestamp\": tp, \"wind_direction\": wind_dir, \"wind_level\": wind_level, \"tide\": tide_string}\n",
    "    dataf = {\"timestamp\": tp, \"wind_direction\": wd, \"wind_level\": wl, \"tide\": ts}\n",
    "    dataset = pd.DataFrame(dataf)\n",
    "    dataset.to_csv(\"indices/F_\"+date_string+\".csv\", index=False)\n",
    "#     except:\n",
    "#         pass\n"
   ]
  },
  {
   "cell_type": "code",
   "execution_count": null,
   "metadata": {},
   "outputs": [],
   "source": []
  },
  {
   "cell_type": "code",
   "execution_count": 13,
   "metadata": {},
   "outputs": [
    {
     "data": {
      "text/plain": [
       "'2016_1'"
      ]
     },
     "execution_count": 13,
     "metadata": {},
     "output_type": "execute_result"
    }
   ],
   "source": [
    "file[-14:-8]"
   ]
  },
  {
   "cell_type": "code",
   "execution_count": 5,
   "metadata": {},
   "outputs": [],
   "source": [
    "file = files[0]"
   ]
  },
  {
   "cell_type": "code",
   "execution_count": 9,
   "metadata": {},
   "outputs": [
    {
     "data": {
      "text/plain": [
       "'salinity_mar_2016_1-009.mat'"
      ]
     },
     "execution_count": 9,
     "metadata": {},
     "output_type": "execute_result"
    }
   ],
   "source": [
    "file"
   ]
  },
  {
   "cell_type": "code",
   "execution_count": 1,
   "metadata": {},
   "outputs": [
    {
     "ename": "NameError",
     "evalue": "name 'dataf' is not defined",
     "output_type": "error",
     "traceback": [
      "\u001B[0;31m---------------------------------------------------------------------------\u001B[0m",
      "\u001B[0;31mNameError\u001B[0m                                 Traceback (most recent call last)",
      "\u001B[0;32m<ipython-input-1-9f1279efdeba>\u001B[0m in \u001B[0;36m<module>\u001B[0;34m\u001B[0m\n\u001B[0;32m----> 1\u001B[0;31m \u001B[0mdataf\u001B[0m\u001B[0;34m\u001B[0m\u001B[0;34m\u001B[0m\u001B[0m\n\u001B[0m",
      "\u001B[0;31mNameError\u001B[0m: name 'dataf' is not defined"
     ]
    }
   ],
   "source": [
    "dataf"
   ]
  },
  {
   "cell_type": "code",
   "execution_count": null,
   "metadata": {},
   "outputs": [],
   "source": []
  }
 ],
 "metadata": {
  "kernelspec": {
   "display_name": "Python 3",
   "language": "python",
   "name": "python3"
  },
  "language_info": {
   "codemirror_mode": {
    "name": "ipython",
    "version": 3
   },
   "file_extension": ".py",
   "mimetype": "text/x-python",
   "name": "python",
   "nbconvert_exporter": "python",
   "pygments_lexer": "ipython3",
   "version": "3.8.10"
  }
 },
 "nbformat": 4,
 "nbformat_minor": 4
}
