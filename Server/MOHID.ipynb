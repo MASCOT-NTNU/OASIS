{
 "cells": [
  {
   "cell_type": "markdown",
   "metadata": {},
   "source": [
    "# MOHID data visualiser"
   ]
  },
  {
   "cell_type": "code",
   "execution_count": 1,
   "metadata": {},
   "outputs": [],
   "source": [
    "import h5py\n",
    "import numpy as np\n",
    "import matplotlib.pyplot as plt\n",
    "import numba\n",
    "from numba import cuda\n",
    "import pandas as pd\n",
    "import plotly\n",
    "import plotly.graph_objects as go\n",
    "import time\n",
    "from matplotlib.cm import get_cmap\n",
    "from scipy.spatial.distance import cdist\n",
    "from WGS import WGS\n",
    "import os\n",
    "from datetime import datetime\n",
    "import concurrent.futures\n",
    "from shapely.geometry import Polygon, Point\n",
    "from tqdm import tqdm\n",
    "from joblib import Parallel, delayed\n",
    "from matplotlib.gridspec import GridSpec\n",
    "import pickle\n",
    "from skgstat import Variogram\n",
    "from scipy.interpolate import interp2d\n",
    "import fast_interp\n",
    "import pathlib\n",
    "from dateutil import rrule\n",
    "# from fast_interp import interp2d\n",
    "\n",
    "\n",
    "def vectorize(v):\n",
    "    return np.array(v).reshape(-1, 1)\n",
    "\n",
    "# s1: load operation area\n",
    "plg_op = pd.read_csv(\"OP2/OPA_GOOGLE.csv\").to_numpy()\n",
    "plg_op_shapely = Polygon(plg_op)\n",
    "def is_point_legal(lat, lon):\n",
    "    point = Point(lat, lon)\n",
    "    return plg_op_shapely.contains(point)\n",
    "\n",
    "def checkfolder(folder):\n",
    "    path = pathlib.Path(folder)\n",
    "    path.mkdir(parents=True, exist_ok=True)\n",
    "    # print(folder + \"is created\")\n"
   ]
  },
  {
   "cell_type": "code",
   "execution_count": 2,
   "metadata": {},
   "outputs": [],
   "source": [
    "date_start = \"20230303\"\n",
    "date_end = \"20230304\"\n",
    "dates = []\n",
    "for dt in rrule.rrule(rrule.DAILY,dtstart=datetime.strptime(date_start, '%Y%m%d'),\n",
    "                      until=datetime.strptime(date_end, '%Y%m%d')):\n",
    "    dates.append(dt.strftime('%Y-%m-%d'))\n",
    "sd = []\n",
    "for i in range(len(dates)-1): \n",
    "    sd.append(dates[i] + \"_\" + dates[i+1])"
   ]
  },
  {
   "cell_type": "code",
   "execution_count": 3,
   "metadata": {},
   "outputs": [
    {
     "data": {
      "text/plain": [
       "['2023-03-03_2023-03-04']"
      ]
     },
     "execution_count": 3,
     "metadata": {},
     "output_type": "execute_result"
    }
   ],
   "source": [
    "sd"
   ]
  },
  {
   "cell_type": "code",
   "execution_count": 6,
   "metadata": {},
   "outputs": [],
   "source": [
    "\n",
    "def plt_mohid(mission_date): \n",
    "    mohid_path = \"mohid/\"\n",
    "    print(mission_date)\n",
    "    files = os.listdir(mohid_path)\n",
    "    files.remove(\"README.md\")\n",
    "    files.sort()\n",
    "    ind_date = files.index(mission_date)\n",
    "    file = files[ind_date] + \"/WaterProperties.hdf5\" # load latest mohid data\n",
    "    print(\"Now it will load the MOHID data...\")\n",
    "    t1 = time.time()\n",
    "    data = h5py.File(mohid_path + file, 'r')\n",
    "    grid = data.get('Grid')\n",
    "    lat = np.array(grid.get(\"Latitude\"))[:-1, :-1].flatten()\n",
    "    lon = np.array(grid.get(\"Longitude\"))[:-1, :-1].flatten()\n",
    "    depth = []\n",
    "    sal_mohid = []\n",
    "    for i in range(1, 26):\n",
    "        string_z = \"Vertical_{:05d}\".format(i)\n",
    "        string_sal = \"salinity_{:05d}\".format(i)\n",
    "        depth.append(np.mean(np.array(grid.get(\"VerticalZ\").get(string_z)), axis = 0))\n",
    "        sal_mohid.append(np.mean(np.array(data.get(\"Results\").get(\"salinity\").get(string_sal)), axis = 0))\n",
    "    depth = np.array(depth)\n",
    "    sal_mohid = np.array(sal_mohid)\n",
    "    t2 = time.time()\n",
    "    print(\"Data is loaded correctly, time consumed: \", t2 - t1)\n",
    "    res = Parallel(n_jobs=14)(delayed(is_point_legal)(la, lo) for la, lo in zip(lat, lon))\n",
    "    ind_legal_mohid = np.where(res)[0]\n",
    "    folderpath = \"fig/mohid/\" + mission_date + \"/\"\n",
    "    checkfolder(folderpath)\n",
    "    for i in tqdm(range(sal_mohid.shape[0])):\n",
    "        plt.figure()\n",
    "        plt.scatter(lon[ind_legal_mohid], lat[ind_legal_mohid], c=sal_mohid[i, :, :].flatten()[ind_legal_mohid], \n",
    "                    cmap=get_cmap(\"BrBG\", 10), vmin=20, vmax=33)\n",
    "        plt.colorbar()\n",
    "        plt.plot(plg_op[:, 1], plg_op[:, 0], 'k-.')\n",
    "        plt.title(\"Salinity field on \" + mission_date[:10] + \" from MOHID at \" + str(i) + \" o'clock\")\n",
    "        plt.xlabel(\"Lon [deg]\")\n",
    "        plt.ylabel(\"Lat [deg]\")\n",
    "        plt.savefig(folderpath + \"P_{:03d}.png\".format(i))\n",
    "#         plt.show()\n",
    "        plt.close(\"all\")\n",
    "#         break\n",
    "# plt.scatter(ym, xm, c=df_mohid[:, 2], cmap=get_cmap(\"BrBG\", 10), vmin=10, vmax=36)\n",
    "# plt.plot(yplg, xplg, 'r-.')\n",
    "# plt.axvline(7000)\n",
    "# plt.axhline(5400)\n",
    "# plt.colorbar()\n",
    "# plt.show()\n"
   ]
  },
  {
   "cell_type": "code",
   "execution_count": 7,
   "metadata": {},
   "outputs": [
    {
     "name": "stdout",
     "output_type": "stream",
     "text": [
      "2023-03-03_2023-03-04\n",
      "Now it will load the MOHID data...\n",
      "Data is loaded correctly, time consumed:  0.09132075309753418\n"
     ]
    },
    {
     "name": "stderr",
     "output_type": "stream",
     "text": [
      "100%|██████████| 25/25 [00:05<00:00,  4.61it/s]\n"
     ]
    }
   ],
   "source": [
    "for s in sd:\n",
    "    plt_mohid(s)"
   ]
  },
  {
   "cell_type": "code",
   "execution_count": null,
   "metadata": {},
   "outputs": [],
   "source": []
  }
 ],
 "metadata": {
  "kernelspec": {
   "display_name": "OASIS",
   "language": "python",
   "name": "oasis"
  },
  "language_info": {
   "codemirror_mode": {
    "name": "ipython",
    "version": 3
   },
   "file_extension": ".py",
   "mimetype": "text/x-python",
   "name": "python",
   "nbconvert_exporter": "python",
   "pygments_lexer": "ipython3",
   "version": "3.9.15"
  }
 },
 "nbformat": 4,
 "nbformat_minor": 4
}
