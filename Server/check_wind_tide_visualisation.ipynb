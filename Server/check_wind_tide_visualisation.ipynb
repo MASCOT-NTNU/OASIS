{
 "cells": [
  {
   "cell_type": "code",
   "execution_count": 2,
   "metadata": {},
   "outputs": [
    {
     "name": "stdout",
     "output_type": "stream",
     "text": [
      "hello\n"
     ]
    }
   ],
   "source": [
    "from datetime import datetime\n",
    "import h5py\n",
    "import numpy as np\n",
    "import matplotlib.pyplot as plt\n",
    "import pandas as pd\n",
    "import plotly\n",
    "import plotly.graph_objects as go\n",
    "import time\n",
    "from matplotlib.cm import get_cmap\n",
    "from scipy.spatial.distance import cdist\n",
    "import os\n",
    "import concurrent.futures\n",
    "from matplotlib.cm import get_cmap\n",
    "from tqdm import tqdm\n",
    "from joblib import Parallel, delayed\n",
    "import pathlib\n",
    "\n",
    "print(\"hello\")\n",
    "datapath = \"data/\"\n",
    "\n",
    "lat_river_mouth, lon_river_mouth = 41.139024, -8.680089\n",
    "figpath = \"fig/\"\n",
    "filepath = \"raw/Nov/\"\n",
    "files = os.listdir(filepath)\n",
    "files.sort()\n"
   ]
  },
  {
   "cell_type": "code",
   "execution_count": 4,
   "metadata": {},
   "outputs": [],
   "source": [
    "path_wind = \"wind/raw/wind_data.txt\"\n",
    "path_tide = \"tide/raw/Month_11.csv\"\n",
    "\n",
    "plt.rcParams[\"font.family\"] = \"Times New Roman\"\n",
    "plt.rcParams.update({'font.size': 12})\n",
    "plt.rcParams.update({'font.style': 'oblique'})\n",
    "\n",
    "\n",
    "wind = np.loadtxt(path_wind, delimiter=\",\")\n",
    "tide = pd.read_csv(path_tide).to_numpy()\n",
    "# tide = np.loadtxt(path_tide, delimiter=\", \")\n",
    "\n",
    "def angle2anle(angle):\n",
    "    return 270 - angle\n",
    "\n",
    "def s2uv(s, angle):\n",
    "    angle = angle2anle(angle)\n",
    "    u = s * np.cos(deg2rad(angle))\n",
    "    v = s * np.sin(deg2rad(angle))\n",
    "    return u, v\n",
    "\n",
    "def rad2deg(rad):\n",
    "    return rad / np.pi * 180\n",
    "\n",
    "def deg2rad(deg):\n",
    "    return deg / 180 * np.pi\n",
    "\n",
    "def checkfolder(folder):\n",
    "    path = pathlib.Path(folder)\n",
    "    path.mkdir(parents=True, exist_ok=True)\n",
    "#     print(folder + \"is created\")\n"
   ]
  },
  {
   "cell_type": "code",
   "execution_count": 7,
   "metadata": {},
   "outputs": [],
   "source": [
    "def plot_files(filename):\n",
    "    print(filename)\n",
    "    date_string = filename[-14:-10] + filename[-6:-4]\n",
    "    data = h5py.File(filepath+filename, 'r')\n",
    "    t1 = time.time()\n",
    "    df = data.get('data')\n",
    "    lon = np.array(df.get(\"X\")).squeeze()\n",
    "    lat = np.array(df.get(\"Y\")).squeeze()\n",
    "    depth = np.array(df.get(\"Z\"))\n",
    "    Time = np.array(df.get('Time'))\n",
    "    timestamp = (Time - 719529) * 24 * 3600  # 719529 is how many days have passed from Jan1 0,\n",
    "    # to Jan1 1970. Since 1970Jan1, is used as the starting index for datetime\n",
    "    sal_data = np.array(df[\"Val\"])\n",
    "    t2 = time.time()\n",
    "    print(\"Loading time takes: \", t2 - t1)\n",
    "\n",
    "    timestamp_data = timestamp[0]\n",
    "    counter = 0\n",
    "    folder = figpath + \"P_\" + date_string + \"/\"\n",
    "    checkfolder(folder)\n",
    "\n",
    "    for i in tqdm(range(sal_data.shape[3])):\n",
    "        plt.figure(figsize=(10, 10))\n",
    "        im = plt.scatter(lon[0, :, :], lat[0, :, :], c=sal_data[0, :, :, i], vmin=15, vmax=36, cmap=get_cmap(\"BrBG\", 10))\n",
    "        dist_wind = np.abs(timestamp_data[i] - wind[:, 0])\n",
    "        ind_wind = np.where(dist_wind == np.nanmin(dist_wind))[0][0]\n",
    "\n",
    "        dist_tide = np.abs(timestamp_data[i] - tide[:, 0])\n",
    "        ind_tide = np.where(dist_tide == np.nanmin(dist_tide))[0][0]\n",
    "        # ind_wind = 0\n",
    "        u, v = s2uv(wind[ind_wind, 1], wind[ind_wind, 2])\n",
    "\n",
    "        plt.quiver(lon_river_mouth, lat_river_mouth, u, v, scale = 25)\n",
    "        if tide[ind_tide, 2] == 1:\n",
    "            if timestamp_data[i] >= tide[ind_tide, 0]:\n",
    "                plt.quiver(-8.65, 41.2, -1, 0)\n",
    "                plt.text(-8.65, 41.205, 'Ebb tide')\n",
    "            else:\n",
    "                plt.quiver(-8.65, 41.2, 1, 0)\n",
    "                plt.text(-8.65, 41.205, 'Flood tide')\n",
    "        else:\n",
    "            if timestamp_data[i] >= tide[ind_tide, 0]:\n",
    "                plt.quiver(-8.65, 41.2, 1, 0)\n",
    "                plt.text(-8.65, 41.205, 'Flood tide')\n",
    "            else:\n",
    "                plt.quiver(-8.65, 41.2, -1, 0)\n",
    "                plt.text(-8.65, 41.205, 'Ebb tide')\n",
    "            # plt.quiver(-8.65, 41.2, -1, 0)\n",
    "\n",
    "        angles = np.arange(4) * 90 + 45\n",
    "        directions = ['East', 'South', 'West', 'North']\n",
    "        id = len(angles[angles < wind[ind_wind, 2]]) - 1\n",
    "        plt.text(-8.7, 41.04, \"Wind direction: \" + directions[id])\n",
    "\n",
    "        speeds = np.array([0, 2.5, 6])\n",
    "        levels = ['Mild', 'Moderate', 'Heavy']\n",
    "        id = len(speeds[speeds < wind[ind_wind, 1]]) - 1\n",
    "        plt.text(-8.7, 41.035, \"Wind level: \" + levels[id])\n",
    "\n",
    "        plt.xlabel(\"Lon [deg]\")\n",
    "        plt.ylabel(\"Lat [deg]\")\n",
    "        plt.title(\"Surface salinity on \" + datetime.fromtimestamp(timestamp_data[i]).strftime(\"%Y%m%d - %H:%M\"))\n",
    "        plt.colorbar(im)\n",
    "        \n",
    "        plt.savefig(folder + \"P_{:03d}.png\".format(counter))\n",
    "#         plt.savefig(figpath + \"P_{:012d}.png\".format(int(timestamp_data[i])))\n",
    "        plt.close(\"all\")\n",
    "        counter = counter + 1\n"
   ]
  },
  {
   "cell_type": "code",
   "execution_count": 8,
   "metadata": {},
   "outputs": [
    {
     "name": "stderr",
     "output_type": "stream",
     "text": [
      "/usr/lib/python3/dist-packages/joblib/externals/loky/process_executor.py:703: UserWarning: A worker stopped while some jobs were given to the executor. This can be caused by a too short worker timeout or by a memory leak.\n",
      "  warnings.warn(\n"
     ]
    },
    {
     "data": {
      "text/plain": [
       "[None, None, None, None, None, None, None, None, None, None, None, None]"
      ]
     },
     "execution_count": 8,
     "metadata": {},
     "output_type": "execute_result"
    }
   ],
   "source": [
    "Parallel(n_jobs=3)(delayed(plot_files)(f) for f in files)"
   ]
  },
  {
   "cell_type": "code",
   "execution_count": null,
   "metadata": {},
   "outputs": [],
   "source": []
  }
 ],
 "metadata": {
  "kernelspec": {
   "display_name": "Python 3",
   "language": "python",
   "name": "python3"
  },
  "language_info": {
   "codemirror_mode": {
    "name": "ipython",
    "version": 3
   },
   "file_extension": ".py",
   "mimetype": "text/x-python",
   "name": "python",
   "nbconvert_exporter": "python",
   "pygments_lexer": "ipython3",
   "version": "3.8.10"
  }
 },
 "nbformat": 4,
 "nbformat_minor": 4
}
