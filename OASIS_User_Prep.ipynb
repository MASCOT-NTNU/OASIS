{
 "cells": [
  {
   "cell_type": "markdown",
   "id": "d40aae06",
   "metadata": {},
   "source": [
    "# This script is used for preparation for the operations in Porto. "
   ]
  },
  {
   "cell_type": "code",
   "execution_count": 62,
   "id": "e9af43c1",
   "metadata": {},
   "outputs": [],
   "source": [
    "import os\n",
    "import numpy as np\n",
    "import pandas as pd\n",
    "import matplotlib.pyplot as plt\n",
    "from shapely.geometry import Polygon, GeometryCollection\n",
    "import h5py\n",
    "from math import degrees, radians\n",
    "from numpy import vectorize\n",
    "import time\n",
    "from matplotlib.cm import get_cmap"
   ]
  },
  {
   "cell_type": "markdown",
   "id": "e687705b",
   "metadata": {},
   "source": [
    "## Set universal WGS module"
   ]
  },
  {
   "cell_type": "code",
   "execution_count": 14,
   "id": "c82e722e",
   "metadata": {},
   "outputs": [
    {
     "name": "stdout",
     "output_type": "stream",
     "text": [
      "0.0 0.0\n",
      "41.073983156581406 -8.658977758622061\n"
     ]
    }
   ],
   "source": [
    "\n",
    "\"\"\"\n",
    "WGS 84 coordinate system.\n",
    "North-East-Down reference is employed.\n",
    "\n",
    "It converts (lat, lon) in degrees to (x, y) in meters given a specific origin.\n",
    "The selected origin is at Nidarosdomen in Trondheim.\n",
    "\n",
    "Example:\n",
    "    >>> wgs = WGS()\n",
    "    >>> x, y = wgs.latlon2xy(41.065, -8.68281012789546)\n",
    "    >>> print(x, y)\n",
    "    >>> 0.0, 0.0\n",
    "    >>> x, y = 1000, 2000\n",
    "    >>> lat, lon = wgs.xy2latlon(x, y)\n",
    "    >>> print(lat, lon)\n",
    "    >>> 41.17112605658141 -8.59808602737396\n",
    "\"\"\"\n",
    "\n",
    "\n",
    "class WGS:\n",
    "    __CIRCUMFERENCE = 40075000  # [m], circumference\n",
    "    __LATITUDE_ORIGIN = 41.065\n",
    "    __LONGITUDE_ORIGIN = -8.68281012789546\n",
    "\n",
    "    @staticmethod\n",
    "    @vectorize\n",
    "    def latlon2xy(lat: float, lon: float) -> tuple:\n",
    "        x = radians((lat - WGS.__LATITUDE_ORIGIN)) / 2 / np.pi * WGS.__CIRCUMFERENCE\n",
    "        y = radians((lon - WGS.__LONGITUDE_ORIGIN)) / 2 / np.pi * WGS.__CIRCUMFERENCE * np.cos(radians(lat))\n",
    "        return x, y\n",
    "\n",
    "    @staticmethod\n",
    "    @vectorize\n",
    "    def xy2latlon(x: float, y: float) -> tuple:\n",
    "        lat = WGS.__LATITUDE_ORIGIN + degrees(x * np.pi * 2.0 / WGS.__CIRCUMFERENCE)\n",
    "        lon = WGS.__LONGITUDE_ORIGIN + degrees(y * np.pi * 2.0 / (WGS.__CIRCUMFERENCE * np.cos(radians(lat))))\n",
    "        return lat, lon\n",
    "\n",
    "    @staticmethod\n",
    "    def set_origin(lat: float, lon: float) -> None:\n",
    "        \"\"\" Update the origin for the coordinate system. \"\"\"\n",
    "        WGS.__LATITUDE_ORIGIN = lat\n",
    "        WGS.__LONGITUDE_ORIGIN = lon\n",
    "\n",
    "    @staticmethod\n",
    "    def get_origin() -> tuple:\n",
    "        \"\"\" Return origin lat, lon in degrees. \"\"\"\n",
    "        return WGS.__LATITUDE_ORIGIN, WGS.__LONGITUDE_ORIGIN\n",
    "\n",
    "    @staticmethod\n",
    "    def get_circumference() -> float:\n",
    "        \"\"\" Return the circumference for the earth in meters. \"\"\"\n",
    "        return WGS.__CIRCUMFERENCE\n",
    "\n",
    "\n",
    "if __name__ == \"__main__\":\n",
    "    wgs = WGS()\n",
    "    x, y = wgs.latlon2xy(41.065, -8.68281012789546)\n",
    "    print(x, y)\n",
    "    x, y = 1000, 2000\n",
    "    lat, lon = wgs.xy2latlon(x, y)\n",
    "    print(lat, lon)\n"
   ]
  },
  {
   "cell_type": "markdown",
   "id": "fc21496e",
   "metadata": {},
   "source": [
    "# OP2: Long-horizon path planning in Douro river mouth."
   ]
  },
  {
   "cell_type": "markdown",
   "id": "f939c0a9",
   "metadata": {},
   "source": [
    "## Stage I: get operational area and origin. "
   ]
  },
  {
   "cell_type": "code",
   "execution_count": 23,
   "id": "92072e76",
   "metadata": {},
   "outputs": [
    {
     "name": "stdout",
     "output_type": "stream",
     "text": [
      "41.04068871469593 -8.813846858228182\n",
      "[[14255.15453767  5709.75943741]\n",
      " [ 6655.93266267  6090.08594322]\n",
      " [ 6569.54877378  -217.02662071]\n",
      " [    0.             0.        ]\n",
      " [ 2463.42533384 11085.316791  ]\n",
      " [ 8832.34529913 11091.94966078]\n",
      " [11678.38384112 10215.62113641]\n",
      " [14255.15453767  5709.75943741]]\n"
     ]
    },
    {
     "data": {
      "text/plain": [
       "[<matplotlib.lines.Line2D at 0x1229daee0>]"
      ]
     },
     "execution_count": 23,
     "metadata": {},
     "output_type": "execute_result"
    },
    {
     "data": {
      "image/png": "[encoded data removed]",
      "text/plain": [
       "<Figure size 432x288 with 1 Axes>"
      ]
     },
     "metadata": {
      "needs_background": "light"
     },
     "output_type": "display_data"
    },
    {
     "data": {
      "image/png": "[encoded data removed]",
      "text/plain": [
       "<Figure size 432x288 with 1 Axes>"
      ]
     },
     "metadata": {
      "needs_background": "light"
     },
     "output_type": "display_data"
    }
   ],
   "source": [
    "def vectorise(v):\n",
    "    return np.array(v).reshape(-1, 1)\n",
    "\n",
    "# s1: load allowed region\n",
    "path = \"OperationArea.csv\"\n",
    "plg_allowed = pd.read_csv(path).to_numpy()\n",
    "\n",
    "# s2: load delft3d data area\n",
    "plg_delft3d = np.array([[41.0382, -8.8287],\n",
    "                        [41.0665, -8.6598],\n",
    "                        [41.2265, -8.7249],\n",
    "                        [41.2221, -8.8574]])\n",
    "\n",
    "# s3: get intersected operational area\n",
    "ins = []\n",
    "ins.append(Polygon(plg_allowed).intersection(Polygon(plg_delft3d)))\n",
    "opr = GeometryCollection(ins)\n",
    "opa = opr.geoms\n",
    "lat_op = vectorise(opa[0].exterior.xy[0])\n",
    "lon_op = vectorise(opa[0].exterior.xy[1])\n",
    "plg_op = np.hstack((lat_op, lon_op))\n",
    "\n",
    "# plt.plot(plg_allowed[:, 1], plg_allowed[:, 0], 'r-.')\n",
    "# plt.plot(plg_allowed[-3, 1], plg_allowed[-3, 0], 'k.')\n",
    "# plt.plot(plg_delft3d[:, 1], plg_delft3d[:, 0], 'b-.')\n",
    "plt.plot(plg_op[:, 1], plg_op[:, 0], 'k-')\n",
    "lat_origin, lon_origin = plg_op[3, :]\n",
    "plt.plot(lon_origin, lat_origin, 'r*')\n",
    "\n",
    "# s5: get origin in lat, lon\n",
    "# print(lat_origin, lon_origin)\n",
    "\n",
    "# s6: convert lat lon of polygon to xy and then save to file to be used. \n",
    "wg = WGS()\n",
    "wg.set_origin(lat_origin, lon_origin)\n",
    "x, y = wg.latlon2xy(plg_op[:, 0], plg_op[:, 1])\n",
    "plg_op_xy = np.stack((x, y), axis=1)\n",
    "df = pd.DataFrame(plg_op, columns=['lat', 'lon'])\n",
    "df.to_csv(\"OPA_GOOGLE.csv\", index=False)\n",
    "print(plg_op_xy)\n",
    "plt.figure()\n",
    "plt.plot(y, x)\n"
   ]
  },
  {
   "cell_type": "markdown",
   "id": "70aa5ce6",
   "metadata": {},
   "source": [
    "## TODO: filter data from the surface of Delft3D for that polygon, then set up variogram and coefficients and then determine the A* or PRM or RRT* and finish the system. Do Simulation and HITL. Then launch the mission. "
   ]
  },
  {
   "cell_type": "markdown",
   "id": "465ef6e9",
   "metadata": {},
   "source": [
    "## Data interpolation on grid with wind directions and tide filtering. Now this part is moved to GPU03 remote server. \n"
   ]
  },
  {
   "cell_type": "code",
   "execution_count": null,
   "id": "d484b24c",
   "metadata": {},
   "outputs": [],
   "source": [
    "# path = \"raw/Nov2016_sal_1.mat\"\n",
    "\n",
    "# t1 = time.time()\n",
    "# data = h5py.File(path, 'r')\n",
    "# t2 = time.time()\n",
    "# print(\"Time consumed: \", t2 - t1)\n",
    "\n",
    "# data = data.get('data')\n",
    "# lon = np.array(data.get(\"X\")).squeeze()\n",
    "# lat = np.array(data.get(\"Y\")).squeeze()\n",
    "# depth = np.array(data.get(\"Z\"))\n",
    "# Time = np.array(data.get('Time'))\n",
    "# timestamp = (Time - 719529) * 24 * 3600  # 719529 is how many days have passed from Jan1 0,\n",
    "# # to Jan1 1970. Since 1970Jan1, is used as the starting index for datetime\n",
    "# sal_data = np.array(data[\"Val\"])\n",
    "\n"
   ]
  },
  {
   "cell_type": "markdown",
   "id": "7ee59eb5",
   "metadata": {},
   "source": [
    "## Variogram analysis"
   ]
  },
  {
   "cell_type": "markdown",
   "id": "d1fb5ea9",
   "metadata": {},
   "source": [
    "## MOHID data"
   ]
  },
  {
   "cell_type": "code",
   "execution_count": 96,
   "id": "14685aa0",
   "metadata": {},
   "outputs": [
    {
     "name": "stdout",
     "output_type": "stream",
     "text": [
      "Data is loaded correctly, time consumed:  8.971606016159058\n"
     ]
    }
   ],
   "source": [
    "depth = []\n",
    "salinity = []\n",
    "\n",
    "for i in range(1, 26):\n",
    "    string_z = \"Vertical_{:05d}\".format(i)\n",
    "    string_sal = \"salinity_{:05d}\".format(i)\n",
    "    depth.append(np.mean(np.array(grid.get(\"VerticalZ\").get(string_z)), axis = 0))\n",
    "    salinity.append(np.mean(np.array(data.get(\"Results\").get(\"salinity\").get(string_sal)), axis = 0))\n",
    "\n",
    "depth = np.array(depth)\n",
    "salinity = np.array(salinity)\n",
    "t2 = time.time()\n",
    "print(\"Data is loaded correctly, time consumed: \", t2 - t1)"
   ]
  },
  {
   "cell_type": "code",
   "execution_count": 88,
   "id": "a235ba7d",
   "metadata": {},
   "outputs": [
    {
     "data": {
      "text/plain": [
       "(1, 244, 115)"
      ]
     },
     "execution_count": 88,
     "metadata": {},
     "output_type": "execute_result"
    }
   ],
   "source": [
    "# z = grid.get(\"VerticalZ\").get(\"Vertical_00005\")\n",
    "# sal = data.get(\"Results\").get(\"salinity\").get(\"salinity_00001\")\n",
    "# sal.shape\n",
    "# plt.scatter(lon, lat, c=z[0, :, :], cmap=get_cmap(\"BrBG\", 10), vmin=10, vmax=35)\n",
    "# plt.colorbar()\n",
    "sal.shape"
   ]
  },
  {
   "cell_type": "code",
   "execution_count": 87,
   "id": "c4ffd47f",
   "metadata": {},
   "outputs": [
    {
     "data": {
      "text/plain": [
       "<KeysViewHDF5 ['salinity_00001', 'salinity_00002', 'salinity_00003', 'salinity_00004', 'salinity_00005', 'salinity_00006', 'salinity_00007', 'salinity_00008', 'salinity_00009', 'salinity_00010', 'salinity_00011', 'salinity_00012', 'salinity_00013', 'salinity_00014', 'salinity_00015', 'salinity_00016', 'salinity_00017', 'salinity_00018', 'salinity_00019', 'salinity_00020', 'salinity_00021', 'salinity_00022', 'salinity_00023', 'salinity_00024', 'salinity_00025']>"
      ]
     },
     "execution_count": 87,
     "metadata": {},
     "output_type": "execute_result"
    }
   ],
   "source": []
  },
  {
   "cell_type": "markdown",
   "id": "2c7d23d6",
   "metadata": {},
   "source": [
    "## Path planner analysis"
   ]
  },
  {
   "cell_type": "code",
   "execution_count": null,
   "id": "fae30014",
   "metadata": {},
   "outputs": [],
   "source": []
  }
 ],
 "metadata": {
  "kernelspec": {
   "display_name": "Python 3 (ipykernel)",
   "language": "python",
   "name": "python3"
  },
  "language_info": {
   "codemirror_mode": {
    "name": "ipython",
    "version": 3
   },
   "file_extension": ".py",
   "mimetype": "text/x-python",
   "name": "python",
   "nbconvert_exporter": "python",
   "pygments_lexer": "ipython3",
   "version": "3.9.13"
  }
 },
 "nbformat": 4,
 "nbformat_minor": 5
}
