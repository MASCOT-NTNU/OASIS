{
 "cells": [
  {
   "cell_type": "markdown",
   "id": "62e0033d",
   "metadata": {
    "pycharm": {
     "name": "#%% md\n"
    }
   },
   "source": [
    "# This script synchronizes the AUV in-situ measurements\n",
    "\n",
    "---\n",
    "\n",
    "#### Author: Yaolin Ge\n",
    "#### Contact: yaolin.ge@ntnu.no\n",
    "#### Date: 2022-12-06\n",
    "\n",
    "---\n",
    "\n",
    "## It consists of three steps\n",
    "\n",
    "- Step I: extract raw data from sensor array. \n",
    "- Step II: synchronize raw data with timestamps. \n",
    "- Step III: Merge all data together\n",
    "\n",
    "---\n",
    "\n",
    "## Note: \n",
    "- CTD sensor has IMC ID: 78 which is hard-coded sometime. CTD sensor is \"Water Quality Sensor\" in Neptus from Lauv-xplore-1. \n"
   ]
  },
  {
   "cell_type": "code",
   "execution_count": 1,
   "id": "a217d475",
   "metadata": {
    "pycharm": {
     "name": "#%%\n"
    }
   },
   "outputs": [],
   "source": [
    "import os\n",
    "import re\n",
    "import pandas as pd\n",
    "import numpy as np\n",
    "import time\n",
    "from datetime import datetime\n",
    "import matplotlib.pyplot as plt\n",
    "from matplotlib.cm import get_cmap\n",
    "\n",
    "datapath = os.getcwd() + \"/../../../../Data/Porto/20221206/logs/merged/mra/csv/\"\n"
   ]
  },
  {
   "cell_type": "markdown",
   "id": "4b28768b",
   "metadata": {
    "pycharm": {
     "name": "#%% md\n"
    }
   },
   "source": [
    "# Step I: extract raw data"
   ]
  },
  {
   "cell_type": "code",
   "execution_count": 39,
   "id": "a738ea6c",
   "metadata": {
    "pycharm": {
     "name": "#%%\n"
    }
   },
   "outputs": [],
   "source": [
    "#% Data extraction from the raw data\n",
    "rawLoc = pd.read_csv(datapath + \"EstimatedState.csv\", delimiter=', ', header=0, engine='python')\n",
    "rawSal = pd.read_csv(datapath + \"Salinity.csv\", delimiter=', ', header=0, engine='python')\n",
    "rawTemp = pd.read_csv(datapath + \"Temperature.csv\", delimiter=', ', header=0, engine='python')\n",
    "rawDepth = pd.read_csv(datapath + \"Depth.csv\", delimiter=', ', header=0, engine='python')\n",
    "\n",
    "# To group all the time stamp together, since only second accuracy matters\n",
    "rawSal.iloc[:, 0] = np.ceil(rawSal.iloc[:, 0])\n",
    "rawTemp.iloc[:, 0] = np.ceil(rawTemp.iloc[:, 0])\n",
    "rawCTDTemp = rawTemp[rawTemp.iloc[:, 2] == 78]\n",
    "rawLoc.iloc[:, 0] = np.ceil(rawLoc.iloc[:, 0])\n",
    "rawDepth.iloc[:, 0] = np.ceil(rawDepth.iloc[:, 0])\n",
    "rawDepth.iloc[:, 0] = np.ceil(rawDepth.iloc[:, 0])"
   ]
  },
  {
   "cell_type": "markdown",
   "id": "99f539e5",
   "metadata": {
    "pycharm": {
     "name": "#%% md\n"
    }
   },
   "source": [
    "# Step II: synchronize with timestamps"
   ]
  },
  {
   "cell_type": "code",
   "execution_count": 23,
   "id": "59d2b0c0",
   "metadata": {
    "pycharm": {
     "name": "#%%\n"
    }
   },
   "outputs": [],
   "source": [
    "lat_origin = rawLoc[\"lat (rad)\"].groupby(rawLoc[\"timestamp (seconds since 01/01/1970)\"]).mean()\n",
    "lon_origin = rawLoc[\"lon (rad)\"].groupby(rawLoc[\"timestamp (seconds since 01/01/1970)\"]).mean()\n",
    "x_loc = rawLoc[\"x (m)\"].groupby(rawLoc[\"timestamp (seconds since 01/01/1970)\"]).mean()\n",
    "y_loc = rawLoc[\"y (m)\"].groupby(rawLoc[\"timestamp (seconds since 01/01/1970)\"]).mean()\n",
    "z_loc = rawLoc[\"z (m)\"].groupby(rawLoc[\"timestamp (seconds since 01/01/1970)\"]).mean()\n",
    "depth = rawLoc[\"depth (m)\"].groupby(rawLoc[\"timestamp (seconds since 01/01/1970)\"]).mean()\n",
    "time_loc = rawLoc[\"timestamp (seconds since 01/01/1970)\"].groupby(rawLoc[\"timestamp (seconds since 01/01/1970)\"]).mean()\n",
    "time_sal= rawSal[\"timestamp (seconds since 01/01/1970)\"].groupby(rawSal[\"timestamp (seconds since 01/01/1970)\"]).mean()\n",
    "time_temp = rawCTDTemp[\"timestamp (seconds since 01/01/1970)\"].groupby(rawCTDTemp[\"timestamp (seconds since 01/01/1970)\"]).mean()\n",
    "dataSal = rawSal[\"value\"].groupby(rawSal[\"timestamp (seconds since 01/01/1970)\"]).mean()\n",
    "dataTemp = rawCTDTemp.iloc[:, -1].groupby(rawCTDTemp[\"timestamp (seconds since 01/01/1970)\"]).mean()\n",
    "\n"
   ]
  },
  {
   "cell_type": "markdown",
   "id": "97a28374",
   "metadata": {
    "pycharm": {
     "name": "#%% md\n"
    }
   },
   "source": [
    "# Step III: merge all synchronized data"
   ]
  },
  {
   "cell_type": "code",
   "execution_count": 44,
   "id": "0d615b6a",
   "metadata": {
    "pycharm": {
     "name": "#%%\n"
    }
   },
   "outputs": [
    {
     "name": "stdout",
     "output_type": "stream",
     "text": [
      "2022-12-06 12:15:32\n",
      "2022-12-06 12:32:03\n",
      "2022-12-06 13:33:30\n"
     ]
    }
   ],
   "source": [
    "circumference = 40075000\n",
    "data = []\n",
    "time_mission = []\n",
    "xauv = []\n",
    "yauv = []\n",
    "zauv = []\n",
    "dauv = []\n",
    "sal_auv = []\n",
    "temp_auv = []\n",
    "lat_auv = []\n",
    "lon_auv = []\n",
    "\n",
    "for i in range(len(time_loc)):\n",
    "    if np.any(time_sal.isin([time_loc.iloc[i]])) and np.any(time_temp.isin([time_loc.iloc[i]])):\n",
    "        time_mission.append(time_loc.iloc[i])\n",
    "        xauv.append(x_loc.iloc[i])\n",
    "        yauv.append(y_loc.iloc[i])\n",
    "        zauv.append(z_loc.iloc[i])\n",
    "        dauv.append(depth.iloc[i])\n",
    "        lat_temp = np.rad2deg(lat_origin.iloc[i]) + np.rad2deg(x_loc.iloc[i] * np.pi * 2.0 / circumference)\n",
    "        lat_auv.append(lat_temp)\n",
    "        lon_auv.append(np.rad2deg(lon_origin.iloc[i]) + np.rad2deg(y_loc.iloc[i] * np.pi * 2.0 / (circumference * np.cos(np.deg2rad(lat_temp)))))\n",
    "        sal_auv.append(dataSal[time_sal.isin([time_loc.iloc[i]])].iloc[0])\n",
    "        temp_auv.append(dataTemp[time_temp.isin([time_loc.iloc[i]])].iloc[0])\n",
    "    else:\n",
    "        print(datetime.fromtimestamp(time_loc.iloc[i]))\n",
    "        continue\n",
    "\n"
   ]
  },
  {
   "cell_type": "code",
   "execution_count": 46,
   "id": "787a5c02",
   "metadata": {
    "pycharm": {
     "name": "#%%\n"
    }
   },
   "outputs": [
    {
     "data": {
      "image/png": "[encoded data removed]",
      "text/plain": [
       "<Figure size 432x288 with 2 Axes>"
      ]
     },
     "metadata": {
      "needs_background": "light"
     },
     "output_type": "display_data"
    },
    {
     "data": {
      "image/png": "[encoded data removed]",
      "text/plain": [
       "<Figure size 432x288 with 2 Axes>"
      ]
     },
     "metadata": {
      "needs_background": "light"
     },
     "output_type": "display_data"
    }
   ],
   "source": [
    "# plot salinity\n",
    "plt.scatter(lon_auv, lat_auv, c=sal_auv, cmap=get_cmap(\"BrBG\", 10), vmin=20, vmax=31)\n",
    "plt.colorbar()\n",
    "plt.show()\n",
    "\n",
    "# plot temperature\n",
    "plt.scatter(lon_auv, lat_auv, c=temp_auv, cmap=get_cmap(\"RdBu\", 20))\n",
    "plt.colorbar()\n",
    "plt.show()\n"
   ]
  },
  {
   "cell_type": "code",
   "execution_count": 47,
   "id": "f3fe416b",
   "metadata": {
    "pycharm": {
     "name": "#%%\n"
    }
   },
   "outputs": [],
   "source": [
    "dataset = np.stack((time_mission, lat_auv, lon_auv, dauv, sal_auv, temp_auv), axis=1)\n",
    "df = pd.DataFrame(dataset, columns=['timestamp', 'lat', 'lon', 'depth', 'salinity', 'temperature'])\n",
    "df.to_csv(\"csv/AUVData.csv\", index=False)"
   ]
  },
  {
   "cell_type": "code",
   "execution_count": null,
   "id": "aecad983",
   "metadata": {},
   "outputs": [],
   "source": []
  }
 ],
 "metadata": {
  "kernelspec": {
   "display_name": "OASIS",
   "language": "python",
   "name": "oasis"
  },
  "language_info": {
   "codemirror_mode": {
    "name": "ipython",
    "version": 3
   },
   "file_extension": ".py",
   "mimetype": "text/x-python",
   "name": "python",
   "nbconvert_exporter": "python",
   "pygments_lexer": "ipython3",
   "version": "3.9.13"
  }
 },
 "nbformat": 4,
 "nbformat_minor": 5
}
