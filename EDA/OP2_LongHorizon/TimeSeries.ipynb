{
 "cells": [
  {
   "cell_type": "markdown",
   "id": "675f096d",
   "metadata": {
    "pycharm": {
     "name": "#%% md\n"
    }
   },
   "source": [
    "# EDA on 20221111\n",
    "\n",
    "---\n",
    "\n",
    "This script is used to do basic data analysis on in-situ measurements collected in Douro Rio, Poro, Portugal. \n",
    "\n",
    "TODO: \n",
    "- Variogram analysis. \n",
    "- Visualise time series data. \n",
    "\n",
    "---"
   ]
  },
  {
   "cell_type": "code",
   "execution_count": 2,
   "id": "68757c3e",
   "metadata": {
    "pycharm": {
     "name": "#%%\n"
    }
   },
   "outputs": [],
   "source": [
    "import numpy as np\n",
    "import pandas as pd\n",
    "import os\n",
    "from datetime import datetime\n",
    "from matplotlib.cm import get_cmap\n",
    "import matplotlib.pyplot as plt\n",
    "from matplotlib.gridspec import GridSpec\n",
    "import plotly.graph_objects as go\n",
    "from shapely.geometry import Polygon, Point\n",
    "from matplotlib import tri\n",
    "\n",
    "plt.rcParams[\"font.family\"] = \"Times New Roman\"\n",
    "plt.rcParams[\"font.size\"] = 20\n",
    "\n",
    "\n"
   ]
  },
  {
   "cell_type": "code",
   "execution_count": 5,
   "id": "26785b8f",
   "metadata": {},
   "outputs": [
    {
     "data": {
      "text/plain": [
       "<matplotlib.colorbar.Colorbar at 0x11e891ca0>"
      ]
     },
     "execution_count": 5,
     "metadata": {},
     "output_type": "execute_result"
    },
    {
     "data": {
      "image/png": "[encoded data removed]",
      "text/plain": [
       "<Figure size 432x288 with 2 Axes>"
      ]
     },
     "metadata": {
      "needs_background": "light"
     },
     "output_type": "display_data"
    }
   ],
   "source": [
    "datapath = \"csv/AUVData.csv\"\n",
    "data = pd.read_csv(datapath).to_numpy()\n",
    "timestamp = data[:, 0]\n",
    "lat = data[:, 1]\n",
    "lon = data[:, 2]\n",
    "depth = data[:, 3]\n",
    "salinity = data[:, 4]\n",
    "# grid = pd.read_csv(\"grid_xy.csv\").to_numpy()\n",
    "# plg = pd.read_csv(\"plg_xy.csv\").to_numpy()\n",
    "# plg_shapely = Polygon(plg)\n",
    "plt.scatter(lon, lat, c=salinity, cmap=get_cmap(\"BrBG\", 10), vmin=30, vmax=33)\n",
    "plt.colorbar()"
   ]
  },
  {
   "cell_type": "markdown",
   "id": "720b7bae",
   "metadata": {
    "pycharm": {
     "name": "#%% md\n"
    }
   },
   "source": [
    "# Section I: variogram analysis"
   ]
  },
  {
   "cell_type": "code",
   "execution_count": null,
   "id": "123a8e0d",
   "metadata": {},
   "outputs": [],
   "source": []
  },
  {
   "cell_type": "markdown",
   "id": "e735ca6f",
   "metadata": {
    "pycharm": {
     "name": "#%% md\n"
    }
   },
   "source": [
    "# Section II: time series analysis"
   ]
  },
  {
   "cell_type": "code",
   "execution_count": null,
   "id": "0ec58c8f",
   "metadata": {
    "pycharm": {
     "name": "#%%\n"
    }
   },
   "outputs": [],
   "source": [
    "\n",
    "\n",
    "tf = np.vectorize(datetime.fromtimestamp)\n",
    "tid = tf(self.timestamp)\n",
    "# tid_str = []\n",
    "# for i in range(len(tid)):\n",
    "#     tid_str.append(datetime.strftime(tid[i], \"%H:%M\"))\n",
    "tid_str = tid\n",
    "\n",
    "fig = plt.figure(figsize=(20, 15))\n",
    "gs = GridSpec(nrows=3, ncols=1)\n",
    "ax = fig.add_subplot(gs[0])\n",
    "ax.plot(tid_str, depth, 'k-')\n",
    "ax.set_xlim([tid_str[0], tid_str[-1]])\n",
    "ax.set_ylabel(\"Depth [m]\")\n",
    "ax.set_title(\"2022-11-11 Long-Horizon timeseries data\")\n",
    "ax.grid()\n",
    "\n",
    "ax = fig.add_subplot(gs[1])\n",
    "ax.plot(tid_str, salinity, 'k-')\n",
    "ax.set_xlim([tid_str[0], tid_str[-1]])\n",
    "ax.set_ylabel(\"Salinity [psu]\")\n",
    "ax.grid()\n",
    "\n",
    "ax = fig.add_subplot(gs[2])\n",
    "ax.plot(tid_str, temperature, 'k-')\n",
    "ax.set_xlim([tid_str[0], tid_str[-1]])\n",
    "ax.set_ylabel(\"Temperature [deg]\")\n",
    "ax.set_xlabel(\"Time\")\n",
    "ax.grid()\n",
    "# rotate and align the tick labels so they look better\n",
    "ax.xaxis.set_major_formatter(mdates.DateFormatter('%H:%M'))\n",
    "fig.autofmt_xdate()\n",
    "# plt.savefig(FIGPATH + \"Timeseries_20220511_MAFIA.pdf\")\n",
    "plt.show()\n",
    "pass"
   ]
  }
 ],
 "metadata": {
  "kernelspec": {
   "display_name": "Python 3 (ipykernel)",
   "language": "python",
   "name": "python3"
  },
  "language_info": {
   "codemirror_mode": {
    "name": "ipython",
    "version": 3
   },
   "file_extension": ".py",
   "mimetype": "text/x-python",
   "name": "python",
   "nbconvert_exporter": "python",
   "pygments_lexer": "ipython3",
   "version": "3.9.13"
  }
 },
 "nbformat": 4,
 "nbformat_minor": 5
}